{
 "cells": [
  {
   "cell_type": "code",
   "execution_count": 38,
   "metadata": {},
   "outputs": [],
   "source": [
    "import numpy as np\n",
    "import random\n",
    "from abc import abstractmethod"
   ]
  },
  {
   "cell_type": "code",
   "execution_count": 6,
   "metadata": {},
   "outputs": [],
   "source": [
    "# generate random hamd\n",
    "hand = random.sample(list(range(136)), 13)\n",
    "hand_tensor = np.zeros(37, dtype=np.float32)\n",
    "for tile in hand:\n",
    "    hand_tensor[tile // 4] += 1.0\n",
    "\n",
    "assert hand_tensor.sum() == 13.0"
   ]
  },
  {
   "cell_type": "code",
   "execution_count": 55,
   "metadata": {},
   "outputs": [],
   "source": [
    "hand_tensor = np.array([\n",
    "    0, 2, 2, 1, 2, 2, 2, 1, 2, 0, 0, 0, 0, 0, 0, 0, 0, 0, 0, 0, 0, 0, 0, 0, 0, 0, 0, 0, 0, 0, 0, 0, 0, 0, 0, 0, 0\n",
    "])"
   ]
  },
  {
   "cell_type": "code",
   "execution_count": 42,
   "metadata": {},
   "outputs": [],
   "source": [
    "class ShantenSolver:\n",
    "    @abstractmethod\n",
    "    def _init(self, hand_tensor):\n",
    "        assert hand_tensor.sum() <= 14.0\n",
    "        self.hand_tensor = hand_tensor\n",
    "    \n",
    "    @abstractmethod\n",
    "    def solve(self):\n",
    "        pass"
   ]
  },
  {
   "cell_type": "code",
   "execution_count": 40,
   "metadata": {},
   "outputs": [],
   "source": [
    "class NormalHandShantenSolver(ShantenSolver):\n",
    "    def _init(self, hand_tensor):\n",
    "        super()._init(hand_tensor)\n",
    "        self.n_melds = (14 - hand_tensor.sum()) // 3\n",
    "        self.n_mentsu = self.n_melds + sum(hand_tensor[27:] >= 3.0)\n",
    "        self.n_tatsu = 0\n",
    "        self.n_toitsu = sum(hand_tensor[27:] == 2.0)\n",
    "        self.n_kuttsuki = 0\n",
    "        self.best_shanten = 14\n",
    "        self.tune = 0\n",
    "\n",
    "    def add_shuntsu(self, idx):\n",
    "        self.hand_tensor[idx:idx + 3] -= 1\n",
    "        self.n_mentsu += 1\n",
    "    \n",
    "    def remove_shuntsu(self, idx):\n",
    "        self.hand_tensor[idx:idx + 3] += 1\n",
    "        self.n_mentsu -= 1\n",
    "    \n",
    "    def add_koutsu(self, idx):\n",
    "        self.hand_tensor[idx] -= 3\n",
    "        self.n_mentsu += 1\n",
    "    \n",
    "    def remove_koutsu(self, idx):\n",
    "        self.hand_tensor[idx] += 3\n",
    "        self.n_mentsu -= 1\n",
    "\n",
    "    def add_toitsu(self, idx):\n",
    "        self.hand_tensor[idx] -= 2\n",
    "        self.n_toitsu += 1\n",
    "    \n",
    "    def remove_toitsu(self, idx):\n",
    "        self.hand_tensor[idx] += 2\n",
    "        self.n_toitsu -= 1\n",
    "\n",
    "    def add_taatsu(self, idx, which):\n",
    "        self.hand_tensor[idx:idx+3] -= 1\n",
    "        self.hand_tensor[idx+which] += 1\n",
    "        self.n_tatsu += 1\n",
    "    \n",
    "    def remove_taatsu(self, idx, which):\n",
    "        self.hand_tensor[idx:idx+3] += 1\n",
    "        self.hand_tensor[idx+which] -= 1\n",
    "        self.n_tatsu -= 1\n",
    "\n",
    "    def add_kuttsuki(self, idx, tune):\n",
    "        self.hand_tensor[idx] -= 1\n",
    "        self.n_kuttsuki += 1\n",
    "        if tune:\n",
    "            self.tune += 1\n",
    "    \n",
    "    def remove_kuttsuki(self, idx, tune):\n",
    "        self.hand_tensor[idx] += 1\n",
    "        self.n_kuttsuki -= 1\n",
    "        if tune:\n",
    "            self.tune -= 1\n",
    "\n",
    "    def solve(self, idx):\n",
    "        while idx < 27:\n",
    "            if self.hand_tensor[idx]:\n",
    "                break\n",
    "            idx += 1\n",
    "        \n",
    "        if idx == 27:\n",
    "            shanten = min(self.best_shanten, 8 - self.n_mentsu * 2 - self.n_tatsu - self.n_toitsu)\n",
    "            potential_mentsu = max(0, self.n_toitsu - 1) + self.n_tatsu\n",
    "            if potential_mentsu + self.n_mentsu > 4:\n",
    "                shanten += potential_mentsu + self.n_mentsu - 4\n",
    "            if self.tune and not self.n_toitsu:\n",
    "                shanten += 1\n",
    "            self.best_shanten = min(self.best_shanten, shanten)\n",
    "            return\n",
    "\n",
    "        num = idx % 9\n",
    "\n",
    "        def process_shuntsu(tune=False):\n",
    "            if num < 7 and self.hand_tensor[idx+2]:\n",
    "                if self.hand_tensor[idx+1]:\n",
    "                    self.add_shuntsu(idx)\n",
    "                    self.solve(idx)\n",
    "                    self.remove_shuntsu(idx)\n",
    "                self.add_taatsu(idx, 1)\n",
    "                self.solve(idx)\n",
    "                self.remove_taatsu(idx, 1)\n",
    "            \n",
    "            if num < 8 and self.hand_tensor[idx+1]:\n",
    "                self.add_taatsu(idx, 2)\n",
    "                self.solve(idx)\n",
    "                self.remove_taatsu(idx, 2)\n",
    "\n",
    "            self.add_kuttsuki(idx, tune)\n",
    "            self.solve(idx)\n",
    "            self.remove_kuttsuki(idx, tune)\n",
    "\n",
    "        if self.hand_tensor[idx] == 4:\n",
    "            self.add_koutsu(idx)\n",
    "            process_shuntsu(tune=True)\n",
    "            self.solve(idx+1)\n",
    "            self.remove_koutsu(idx)\n",
    "\n",
    "            self.add_toitsu(idx)\n",
    "            process_shuntsu()\n",
    "            self.remove_toitsu(idx)\n",
    "\n",
    "        elif self.hand_tensor[idx] == 3:\n",
    "            self.add_koutsu(idx)\n",
    "            self.solve(idx+1)\n",
    "            self.remove_koutsu(idx)\n",
    "\n",
    "            self.add_toitsu(idx)\n",
    "            self.solve(idx)\n",
    "            self.remove_toitsu(idx)\n",
    "        \n",
    "        elif self.hand_tensor[idx] == 2:\n",
    "            self.add_toitsu(idx)\n",
    "            self.solve(idx+1)\n",
    "            self.remove_toitsu(idx)\n",
    "\n",
    "            process_shuntsu()\n",
    "        \n",
    "        elif self.hand_tensor[idx] == 1:\n",
    "            process_shuntsu()\n"
   ]
  },
  {
   "cell_type": "code",
   "execution_count": 41,
   "metadata": {},
   "outputs": [
    {
     "name": "stdout",
     "output_type": "stream",
     "text": [
      "0\n"
     ]
    }
   ],
   "source": [
    "solver = NormalHandShantenSolver()\n",
    "solver._init(hand_tensor)\n",
    "solver.solve(0)\n",
    "print(solver.best_shanten)"
   ]
  },
  {
   "cell_type": "code",
   "execution_count": 43,
   "metadata": {},
   "outputs": [],
   "source": [
    "class ChitoitsuHandShantenSolver(ShantenSolver):\n",
    "    def _init(self, hand_tensor):\n",
    "        super()._init(hand_tensor)\n",
    "    \n",
    "    def solve(self):\n",
    "        return 6 - sum(hand_tensor >= 2.0)"
   ]
  },
  {
   "cell_type": "code",
   "execution_count": 44,
   "metadata": {},
   "outputs": [
    {
     "name": "stdout",
     "output_type": "stream",
     "text": [
      "0\n"
     ]
    }
   ],
   "source": [
    "solver = NormalHandShantenSolver()\n",
    "solver._init(hand_tensor)\n",
    "solver.solve(0)\n",
    "print(solver.best_shanten)"
   ]
  },
  {
   "cell_type": "code",
   "execution_count": 58,
   "metadata": {},
   "outputs": [],
   "source": [
    "class KokushiHandShantenSolver(ShantenSolver):\n",
    "    def _init(self, hand_tensor):\n",
    "        super()._init(hand_tensor)\n",
    "    \n",
    "    def solve(self):\n",
    "        yaochu_tensor = np.zeros(37)\n",
    "        yaochu_tensor[[0, 8, 9, 17, 18, 26, 27, 28, 29, 30, 31, 32, 33, 34]] = 1.0\n",
    "        yaochu_arr = self.hand_tensor * yaochu_tensor\n",
    "        return 13 - sum(yaochu_arr >= 1.0) - (max(yaochu_arr) - 1.0)"
   ]
  },
  {
   "cell_type": "code",
   "execution_count": 59,
   "metadata": {},
   "outputs": [
    {
     "name": "stdout",
     "output_type": "stream",
     "text": [
      "11.0\n"
     ]
    }
   ],
   "source": [
    "solver = KokushiHandShantenSolver()\n",
    "solver._init(hand_tensor)\n",
    "print(solver.solve())"
   ]
  }
 ],
 "metadata": {
  "kernelspec": {
   "display_name": "Python 3",
   "language": "python",
   "name": "python3"
  },
  "language_info": {
   "codemirror_mode": {
    "name": "ipython",
    "version": 3
   },
   "file_extension": ".py",
   "mimetype": "text/x-python",
   "name": "python",
   "nbconvert_exporter": "python",
   "pygments_lexer": "ipython3",
   "version": "3.10.8"
  },
  "orig_nbformat": 4
 },
 "nbformat": 4,
 "nbformat_minor": 2
}
