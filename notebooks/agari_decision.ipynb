{
 "cells": [
  {
   "cell_type": "code",
   "execution_count": 46,
   "metadata": {},
   "outputs": [],
   "source": [
    "import numpy as np\n",
    "import sys\n",
    "from mahjong.tile import TilesConverter\n",
    "from mahjong.hand_calculating.hand import HandCalculator\n",
    "from mahjong.hand_calculating.hand_config import HandConfig, OptionalRules\n",
    "\n",
    "sys.path.append('../')\n",
    "\n",
    "from MahjongAI.utils.shanten import ShantenSolver\n",
    "from MahjongAI.utils.constants import *"
   ]
  },
  {
   "cell_type": "code",
   "execution_count": 48,
   "metadata": {},
   "outputs": [],
   "source": [
    "player = 2\n",
    "reaches = [1, 0, 0, 0]\n",
    "melds = [[] for _ in range(4)]\n",
    "\n",
    "# TODO: implement sutehai tensor (4 * 34)\n",
    "sutehai_tensor = np.zeros((4, 34), dtype=np.int8)"
   ]
  },
  {
   "attachments": {},
   "cell_type": "markdown",
   "metadata": {},
   "source": [
    "##### ron"
   ]
  },
  {
   "cell_type": "code",
   "execution_count": 57,
   "metadata": {},
   "outputs": [],
   "source": [
    "def evaluate_ron(hand_tensor, discarded_tile):\n",
    "    # add discarded tile to hand\n",
    "    discarded_tile_idx = TILE2IDX[discarded_tile]\n",
    "    hand_tensor[discarded_tile_idx] += 1\n",
    "\n",
    "    # check shanten\n",
    "    shanten_solver = ShantenSolver()\n",
    "    shanten_solver._init(hand_tensor)\n",
    "    shanten = shanten_solver.solve()\n",
    "    print(f\"Shanten: {shanten}\")\n",
    "\n",
    "    print(hand_tensor)\n",
    "\n",
    "    def hand_tensor2strs(hand_tensor):\n",
    "        tile_strs = []\n",
    "        for i in range(0, 27, 9):\n",
    "            lst = []\n",
    "            for j in range(9):\n",
    "                lst += [j+1] * hand_tensor[i+j]\n",
    "            if hand_tensor[34 + i // 9]:\n",
    "                lst.insert(0, 0)\n",
    "            tile_strs.append(''.join(list(map(str, lst))))\n",
    "        \n",
    "        lst = []\n",
    "        for j in range(27, 34):\n",
    "            lst += [j+1] * hand_tensor[j]\n",
    "        tile_strs.append(''.join(list(map(str, lst))))\n",
    "\n",
    "        return tile_strs\n",
    "\n",
    "    if shanten <= -1: # if agari state\n",
    "        man, pin, sou, honors = hand_tensor2strs(hand_tensor)\n",
    "        tiles = TilesConverter.string_to_136_array(man=man, pin=pin, sou=sou, honors=honors, has_aka_dora=True)\n",
    "\n",
    "        melds = []\n",
    "        dora = []\n",
    "        config = HandConfig(is_tsumo=False, is_riichi=False, player_wind=player, round_wind=player)\n",
    "        result = HandCalculator().estimate_hand_value(tiles, discarded_tile, melds, dora, config=config)\n",
    "\n",
    "        print(result)"
   ]
  },
  {
   "cell_type": "code",
   "execution_count": 58,
   "metadata": {},
   "outputs": [
    {
     "name": "stdout",
     "output_type": "stream",
     "text": [
      "Shanten: -1\n",
      "[1 2 2 1 1 1 1 2 0 1 1 1 0 0 0 0 0 0 0 0 0 0 0 0 0 0 0 0 0 0 0 0 0 0 0 0 0]\n",
      "no_yaku\n"
     ]
    }
   ],
   "source": [
    "hand_tensor = np.array([\n",
    "    1, 2, 2, 1, 1, 1, 1, 1, 0, 1, 1, 1, 0, 0, 0, 0, 0, 0, 0, 0, 0, 0, 0, 0, 0, 0, 0, 0, 0, 0, 0, 0, 0, 0, 0, 0, 0\n",
    "])\n",
    "discarded_tile = 29\n",
    "\n",
    "evaluate_ron(hand_tensor, discarded_tile)"
   ]
  },
  {
   "cell_type": "code",
   "execution_count": 59,
   "metadata": {},
   "outputs": [
    {
     "name": "stdout",
     "output_type": "stream",
     "text": [
      "Shanten: -1\n",
      "[0 2 2 0 2 2 2 2 2 0 0 0 0 0 0 0 0 0 0 0 0 0 0 0 0 0 0 0 0 0 0 0 0 0 0 0 0]\n",
      "8 han, 25 fu\n"
     ]
    }
   ],
   "source": [
    "hand_tensor = np.array([\n",
    "    0, 2, 2, 0, 2, 2, 2, 1, 2, 0, 0, 0, 0, 0, 0, 0, 0, 0, 0, 0, 0, 0, 0, 0, 0, 0, 0, 0, 0, 0, 0, 0, 0, 0, 0, 0, 0\n",
    "])\n",
    "discarded_tile = 29\n",
    "\n",
    "evaluate_ron(hand_tensor, discarded_tile)"
   ]
  }
 ],
 "metadata": {
  "kernelspec": {
   "display_name": "Python 3",
   "language": "python",
   "name": "python3"
  },
  "language_info": {
   "codemirror_mode": {
    "name": "ipython",
    "version": 3
   },
   "file_extension": ".py",
   "mimetype": "text/x-python",
   "name": "python",
   "nbconvert_exporter": "python",
   "pygments_lexer": "ipython3",
   "version": "3.10.8"
  },
  "orig_nbformat": 4
 },
 "nbformat": 4,
 "nbformat_minor": 2
}
